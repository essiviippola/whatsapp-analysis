{
 "cells": [
  {
   "cell_type": "markdown",
   "metadata": {},
   "source": [
    "# Tuuli nousee  Whatsapp group chat analysis"
   ]
  },
  {
   "cell_type": "code",
   "execution_count": 1,
   "metadata": {},
   "outputs": [],
   "source": [
    "import sys\n",
    "sys.path.append('..\\src')\n",
    "\n",
    "from whatsapp_analysis.config import data_path\n",
    "from whatsapp_analysis.helper import import_data, preprocess_data\n",
    "\n",
    "%load_ext autoreload"
   ]
  },
  {
   "cell_type": "code",
   "execution_count": 2,
   "metadata": {
    "tags": []
   },
   "outputs": [],
   "source": [
    "df = import_data(data_path)\n",
    "df = preprocess_data(df)"
   ]
  },
  {
   "cell_type": "code",
   "execution_count": 3,
   "metadata": {},
   "outputs": [
    {
     "data": {
      "text/html": [
       "<div>\n",
       "<style scoped>\n",
       "    .dataframe tbody tr th:only-of-type {\n",
       "        vertical-align: middle;\n",
       "    }\n",
       "\n",
       "    .dataframe tbody tr th {\n",
       "        vertical-align: top;\n",
       "    }\n",
       "\n",
       "    .dataframe thead th {\n",
       "        text-align: right;\n",
       "    }\n",
       "</style>\n",
       "<table border=\"1\" class=\"dataframe\">\n",
       "  <thead>\n",
       "    <tr style=\"text-align: right;\">\n",
       "      <th></th>\n",
       "      <th>date</th>\n",
       "      <th>time</th>\n",
       "      <th>author</th>\n",
       "      <th>message</th>\n",
       "    </tr>\n",
       "  </thead>\n",
       "  <tbody>\n",
       "    <tr>\n",
       "      <td>0</td>\n",
       "      <td>2018-03-16</td>\n",
       "      <td>11.41</td>\n",
       "      <td>Martta Kerkelä</td>\n",
       "      <td>kumpaa käytetään sillee tekstissä yleensä?</td>\n",
       "    </tr>\n",
       "    <tr>\n",
       "      <td>1</td>\n",
       "      <td>2018-03-16</td>\n",
       "      <td>11.42</td>\n",
       "      <td>Essi Viippola</td>\n",
       "      <td>Ehkä Esa on oikee henkilö jolta kysyä 🤔</td>\n",
       "    </tr>\n",
       "    <tr>\n",
       "      <td>2</td>\n",
       "      <td>2018-03-16</td>\n",
       "      <td>11.42</td>\n",
       "      <td>Tapssa</td>\n",
       "      <td>aika hankala kysymys :D kai se on vähän niinku...</td>\n",
       "    </tr>\n",
       "    <tr>\n",
       "      <td>3</td>\n",
       "      <td>2018-03-16</td>\n",
       "      <td>11.43</td>\n",
       "      <td>Essi Viippola</td>\n",
       "      <td>Ja Martta mie teen ihan samaa copy-pastea rmd:...</td>\n",
       "    </tr>\n",
       "    <tr>\n",
       "      <td>4</td>\n",
       "      <td>2018-03-16</td>\n",
       "      <td>12.47</td>\n",
       "      <td>Martta Kerkelä</td>\n",
       "      <td>Miksi meillä nii pöljä koti olkkarin mattoki s...</td>\n",
       "    </tr>\n",
       "  </tbody>\n",
       "</table>\n",
       "</div>"
      ],
      "text/plain": [
       "        date   time          author  \\\n",
       "0 2018-03-16  11.41  Martta Kerkelä   \n",
       "1 2018-03-16  11.42   Essi Viippola   \n",
       "2 2018-03-16  11.42          Tapssa   \n",
       "3 2018-03-16  11.43   Essi Viippola   \n",
       "4 2018-03-16  12.47  Martta Kerkelä   \n",
       "\n",
       "                                             message  \n",
       "0         kumpaa käytetään sillee tekstissä yleensä?  \n",
       "1            Ehkä Esa on oikee henkilö jolta kysyä 🤔  \n",
       "2  aika hankala kysymys :D kai se on vähän niinku...  \n",
       "3  Ja Martta mie teen ihan samaa copy-pastea rmd:...  \n",
       "4  Miksi meillä nii pöljä koti olkkarin mattoki s...  "
      ]
     },
     "execution_count": 3,
     "metadata": {},
     "output_type": "execute_result"
    }
   ],
   "source": []
  }
 ],
 "metadata": {
  "kernelspec": {
   "display_name": "Python 3",
   "language": "python",
   "name": "python3"
  },
  "language_info": {
   "codemirror_mode": {
    "name": "ipython",
    "version": 3
   },
   "file_extension": ".py",
   "mimetype": "text/x-python",
   "name": "python",
   "nbconvert_exporter": "python",
   "pygments_lexer": "ipython3",
   "version": "3.7.4"
  }
 },
 "nbformat": 4,
 "nbformat_minor": 2
}
